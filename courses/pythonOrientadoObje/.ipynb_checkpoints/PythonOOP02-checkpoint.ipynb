{
 "cells": [
  {
   "cell_type": "markdown",
   "metadata": {},
   "source": [
    "# Introducción a la programación orientada a objetos\n",
    "\n",
    "La programación orientada a objetos es un paradigma de la programación, con éste se busca modelar elementos del mundo real con código. Python, y muchos otros lenguajes de alto nivel, están orientados a objetos. \n",
    "\n",
    "La programación orientada a objetos, a la cual también se le conoce como OOP por sus siglas en inglés, provee un nivel de abstracción alto que nos permite crear software más dinámico y modular. \n",
    "\n",
    "Los distintos objetos de nuestros programas no tienen por qué saber qué hacen exactamente los otros objetos. Esto hace que cada objeto sea una especie de caja negra, lo cual no es malo ya que simplifica mucho la escritura de código.\n",
    "\n",
    "\n",
    "### Entendiendo la programación orientada a objetos\n",
    "\n",
    "Realicemos un experimento mental, querido lector. Piense en los libros, ¿Qué características piensa que comparten todos los libros del mundo? Escríbalas o manténgalas en mente.\n",
    "\n",
    "Aquí voy a escribir algunas características de los libros, esto no significa que usted no pueda pensar en otras características o que todos los objetos libro deban tener exactamente estas propiedades.\n",
    "\n",
    "Cada libro tendrá:\n",
    "* Título\n",
    "* Autor\n",
    "* Contenido\n",
    "* Fecha de publicación\n",
    "\n",
    "Estas características, o propiedades, completan el molde de lo que es un libro. Cada libro tendrá un título diferente, no importa, pero todos los libros tendrán un título, un autor, el contenido y una fecha de publicación. De esto se trata la programación orientada a objetos, pensar en las propiedades de objetos del mundo real que nos permiten abstraerlos para definir un molde.\n",
    "\n",
    "### Clases e instancias\n",
    "\n",
    "En la programación orientada a objetos se habla mucho de clases e instancias. Son conceptos similares y estrechamente relacionados, pero no son iguales y muchas veces se les confunde. \n",
    "\n",
    "Una clase es un molde que define las propiedades de un objeto, como en el ejemplo anterior con el libro. En cambio, una instancia es crear un objeto con ese molde. También se puede pensar como una fábrica y el producto que produce dicha fábrica, las clases son las fábricas y las instancias son los productos que crean dichas fábricas. \n",
    "\n",
    "De igual forma, un objeto no es lo mismo que una clase. La clase es la fábrica y el objeto es el producto (o la instancia). Cuando se habla de instanciar una clase, significa que se creará un objeto usando el molde.\n",
    "\n",
    "### Funciones con objetos\n",
    "\n",
    "Con la programación orientada a objetos también podemos agregarle acciones a las abstracciones de los objetos que creamos. A estas acciones se les llama 'métodos'.\n",
    "\n",
    "Volviendo al ejemplo de los libros, una acción o un método podría ser la de pasar una página. Esta acción debería estar disponible para todos los libros. Por lo que al crear el molde, o la clase, podemos asegurarnos de agregarle esta acción para que esté disponible en todos los libros.\n",
    "\n",
    "### Métodos y funciones\n",
    "\n",
    "En la programación, en general, se habla de métodos y funciones. Estos son conceptos que también se confunden mucho. Un método es una función que está relacionada a una clase, una función no está relacionada a alguna clase. Un método es una función, pero una función no necesariamente es un método.\n",
    "\n",
    "Continúa al siguiente sección para comenzar a implementar estos conceptos de OOP en Python."
   ]
  }
 ],
 "metadata": {
  "kernelspec": {
   "display_name": "Python 3",
   "language": "python",
   "name": "python3"
  },
  "language_info": {
   "codemirror_mode": {
    "name": "ipython",
    "version": 3
   },
   "file_extension": ".py",
   "mimetype": "text/x-python",
   "name": "python",
   "nbconvert_exporter": "python",
   "pygments_lexer": "ipython3",
   "version": "3.7.6"
  }
 },
 "nbformat": 4,
 "nbformat_minor": 2
}
